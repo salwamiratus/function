{
 "cells": [
  {
   "cell_type": "code",
   "execution_count": 2,
   "id": "4d236703",
   "metadata": {},
   "outputs": [
    {
     "name": "stdout",
     "output_type": "stream",
     "text": [
      "UKA ATNIC UMAK\n",
      "PYTHON HARI BELAJAR SEDANG INI\n",
      "A\n",
      "4\n"
     ]
    }
   ],
   "source": [
    "def reverse_per_kata(kalimat):\n",
    "    kata = kalimat.split()\n",
    "    hasil = []\n",
    "    for k in kata:\n",
    "        hasil.append(k[::-1])\n",
    "    return ' '.join(hasil)\n",
    "\n",
    "def urutkan_kalimat(kalimat, urutkan):\n",
    "    kata = kalimat.split()\n",
    "    hasil = []\n",
    "    for huruf in  urutkan:\n",
    "        hasil.append(kata[huruf-1])\n",
    "    return ' '.join(hasil)\n",
    "\n",
    "def ganti_vokal(kalimat, posisi):\n",
    "    vokal_kecil = {'a': '4', 'i': '1', 'u': '|_|', 'e': '3', 'o': '0'}\n",
    "    vokal_besar = {'A': '4', 'I': '1', 'U': '|_|', 'E': '3', 'O': '0'}\n",
    "    hasil = ''\n",
    "    for huruf in kalimat:\n",
    "        if posisi == 1 and huruf in vokal_kecil:\n",
    "            hasil += vokal_kecil[huruf]\n",
    "        elif posisi == 2 and huruf in vokal_besar:\n",
    "            hasil += vokal_besar[huruf]\n",
    "        else:\n",
    "            hasil += huruf\n",
    "        return hasil\n",
    "    \n",
    "print(reverse_per_kata(\"AKU CINTA KAMU\"))\n",
    "print(urutkan_kalimat(\"HARI INI SEDANG BELAJAR PYTHON\",[5,1,4,3,2]))\n",
    "print(ganti_vokal(\"Aku Cints Kamu\", 1))\n",
    "print(ganti_vokal(\"AKu Cints Kamu\", 2))\n"
   ]
  },
  {
   "cell_type": "code",
   "execution_count": null,
   "id": "8c4dce5e",
   "metadata": {},
   "outputs": [],
   "source": []
  }
 ],
 "metadata": {
  "kernelspec": {
   "display_name": "Python 3 (ipykernel)",
   "language": "python",
   "name": "python3"
  },
  "language_info": {
   "codemirror_mode": {
    "name": "ipython",
    "version": 3
   },
   "file_extension": ".py",
   "mimetype": "text/x-python",
   "name": "python",
   "nbconvert_exporter": "python",
   "pygments_lexer": "ipython3",
   "version": "3.9.12"
  }
 },
 "nbformat": 4,
 "nbformat_minor": 5
}
